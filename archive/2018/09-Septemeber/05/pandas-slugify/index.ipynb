{
 "cells": [
  {
   "cell_type": "markdown",
   "metadata": {},
   "source": [
    "I have been using [Val Neekman](http://neekware.com/)'s Python library, [Python Slugify](https://github.com/un33k/python-slugify) to clean up Pandas columns."
   ]
  },
  {
   "cell_type": "code",
   "execution_count": 1,
   "metadata": {},
   "outputs": [],
   "source": [
    "import pandas as pd"
   ]
  },
  {
   "cell_type": "code",
   "execution_count": 2,
   "metadata": {
    "tags": []
   },
   "outputs": [],
   "source": [
    "URL_LIST_NATIONAL_PARKS_CA = (\n",
    "    \"https://en.wikipedia.org/wiki/List_of_National_Parks_of_Canada\"\n",
    ")"
   ]
  },
  {
   "cell_type": "code",
   "execution_count": 3,
   "metadata": {
    "tags": []
   },
   "outputs": [
    {
     "data": {
      "text/html": [
       "<div>\n",
       "<style scoped>\n",
       "    .dataframe tbody tr th:only-of-type {\n",
       "        vertical-align: middle;\n",
       "    }\n",
       "\n",
       "    .dataframe tbody tr th {\n",
       "        vertical-align: top;\n",
       "    }\n",
       "\n",
       "    .dataframe thead th {\n",
       "        text-align: right;\n",
       "    }\n",
       "</style>\n",
       "<table border=\"1\" class=\"dataframe\">\n",
       "  <thead>\n",
       "    <tr style=\"text-align: right;\">\n",
       "      <th></th>\n",
       "      <th>Name</th>\n",
       "      <th>Photo</th>\n",
       "      <th>Location</th>\n",
       "      <th>Established[12]</th>\n",
       "      <th>Area (2017)[12]</th>\n",
       "      <th>Natural region[13]</th>\n",
       "      <th>Description</th>\n",
       "    </tr>\n",
       "  </thead>\n",
       "  <tbody>\n",
       "    <tr>\n",
       "      <th>0</th>\n",
       "      <td>Akami-Uapishkᵘ-KakKasuak-Mealy Mountains (Rese...</td>\n",
       "      <td>NaN</td>\n",
       "      <td>Newfoundland and Labrador .mw-parser-output .g...</td>\n",
       "      <td>July 31, 2015</td>\n",
       "      <td>10,700 km2 (4,131 sq mi)</td>\n",
       "      <td>East coast boreal</td>\n",
       "      <td>The park includes a portion of the glacially-r...</td>\n",
       "    </tr>\n",
       "    <tr>\n",
       "      <th>1</th>\n",
       "      <td>Aulavik</td>\n",
       "      <td>NaN</td>\n",
       "      <td>Northwest Territories 73°42′N 119°55′W﻿ / ﻿73....</td>\n",
       "      <td>1992</td>\n",
       "      <td>12,200 km2 (4,710 sq mi)</td>\n",
       "      <td>Western arctic lowlands</td>\n",
       "      <td>Located on the northern part of Banks Island, ...</td>\n",
       "    </tr>\n",
       "    <tr>\n",
       "      <th>2</th>\n",
       "      <td>Auyuittuq</td>\n",
       "      <td>NaN</td>\n",
       "      <td>Nunavut 67°53′N 65°01′W﻿ / ﻿67.883°N 65.017°W</td>\n",
       "      <td>2001</td>\n",
       "      <td>19,089 km2 (7,370 sq mi)</td>\n",
       "      <td>Northern Davis region</td>\n",
       "      <td>One of Canada's largest parks and located almo...</td>\n",
       "    </tr>\n",
       "    <tr>\n",
       "      <th>3</th>\n",
       "      <td>Banff *</td>\n",
       "      <td>NaN</td>\n",
       "      <td>Alberta 51°30′N 116°0′W﻿ / ﻿51.500°N 116.000°W</td>\n",
       "      <td>November 25, 1885</td>\n",
       "      <td>6,641 km2 (2,564 sq mi)</td>\n",
       "      <td>Rocky Mountains</td>\n",
       "      <td>The first park established by the federal gove...</td>\n",
       "    </tr>\n",
       "    <tr>\n",
       "      <th>4</th>\n",
       "      <td>Bruce Peninsula †</td>\n",
       "      <td>NaN</td>\n",
       "      <td>Ontario 45°14′N 81°37′W﻿ / ﻿45.233°N 81.617°W</td>\n",
       "      <td>1987</td>\n",
       "      <td>125 km2 (48 sq mi)</td>\n",
       "      <td>St. Lawrence lowlands</td>\n",
       "      <td>Formed from lands previously designated Ontari...</td>\n",
       "    </tr>\n",
       "  </tbody>\n",
       "</table>\n",
       "</div>"
      ],
      "text/plain": [
       "                                                Name  Photo  \\\n",
       "0  Akami-Uapishkᵘ-KakKasuak-Mealy Mountains (Rese...    NaN   \n",
       "1                                            Aulavik    NaN   \n",
       "2                                          Auyuittuq    NaN   \n",
       "3                                            Banff *    NaN   \n",
       "4                                  Bruce Peninsula †    NaN   \n",
       "\n",
       "                                            Location    Established[12]  \\\n",
       "0  Newfoundland and Labrador .mw-parser-output .g...      July 31, 2015   \n",
       "1  Northwest Territories 73°42′N 119°55′W﻿ / ﻿73....               1992   \n",
       "2      Nunavut 67°53′N 65°01′W﻿ / ﻿67.883°N 65.017°W               2001   \n",
       "3     Alberta 51°30′N 116°0′W﻿ / ﻿51.500°N 116.000°W  November 25, 1885   \n",
       "4      Ontario 45°14′N 81°37′W﻿ / ﻿45.233°N 81.617°W               1987   \n",
       "\n",
       "            Area (2017)[12]       Natural region[13]  \\\n",
       "0  10,700 km2 (4,131 sq mi)        East coast boreal   \n",
       "1  12,200 km2 (4,710 sq mi)  Western arctic lowlands   \n",
       "2  19,089 km2 (7,370 sq mi)    Northern Davis region   \n",
       "3   6,641 km2 (2,564 sq mi)          Rocky Mountains   \n",
       "4        125 km2 (48 sq mi)    St. Lawrence lowlands   \n",
       "\n",
       "                                         Description  \n",
       "0  The park includes a portion of the glacially-r...  \n",
       "1  Located on the northern part of Banks Island, ...  \n",
       "2  One of Canada's largest parks and located almo...  \n",
       "3  The first park established by the federal gove...  \n",
       "4  Formed from lands previously designated Ontari...  "
      ]
     },
     "execution_count": 3,
     "metadata": {},
     "output_type": "execute_result"
    }
   ],
   "source": [
    "dfs = pd.read_html(URL_LIST_NATIONAL_PARKS_CA, header=0)\n",
    "\n",
    "# We know the table of the National Parks is the second one oon the page.\n",
    "df = dfs[1]\n",
    "df.head()"
   ]
  },
  {
   "cell_type": "code",
   "execution_count": 4,
   "metadata": {},
   "outputs": [
    {
     "data": {
      "text/plain": [
       "Index(['Name', 'Photo', 'Location', 'Established[12]', 'Area (2017)[12]',\n",
       "       'Natural region[13]', 'Description'],\n",
       "      dtype='object')"
      ]
     },
     "execution_count": 4,
     "metadata": {},
     "output_type": "execute_result"
    }
   ],
   "source": [
    "df.columns"
   ]
  },
  {
   "cell_type": "code",
   "execution_count": 5,
   "metadata": {},
   "outputs": [
    {
     "data": {
      "text/plain": [
       "Index(['name', 'photo', 'location', 'established_12', 'area_2017_12',\n",
       "       'natural_region_13', 'description'],\n",
       "      dtype='object')"
      ]
     },
     "execution_count": 5,
     "metadata": {},
     "output_type": "execute_result"
    }
   ],
   "source": [
    "from slugify import slugify\n",
    "\n",
    "df.columns = [slugify(col, separator=\"_\") for col in df.columns]\n",
    "\n",
    "df.columns"
   ]
  },
  {
   "cell_type": "code",
   "execution_count": 6,
   "metadata": {},
   "outputs": [
    {
     "data": {
      "text/html": [
       "<div>\n",
       "<style scoped>\n",
       "    .dataframe tbody tr th:only-of-type {\n",
       "        vertical-align: middle;\n",
       "    }\n",
       "\n",
       "    .dataframe tbody tr th {\n",
       "        vertical-align: top;\n",
       "    }\n",
       "\n",
       "    .dataframe thead th {\n",
       "        text-align: right;\n",
       "    }\n",
       "</style>\n",
       "<table border=\"1\" class=\"dataframe\">\n",
       "  <thead>\n",
       "    <tr style=\"text-align: right;\">\n",
       "      <th></th>\n",
       "      <th>name</th>\n",
       "      <th>photo</th>\n",
       "      <th>location</th>\n",
       "      <th>established_12</th>\n",
       "      <th>area_2017_12</th>\n",
       "      <th>natural_region_13</th>\n",
       "      <th>description</th>\n",
       "    </tr>\n",
       "  </thead>\n",
       "  <tbody>\n",
       "    <tr>\n",
       "      <th>43</th>\n",
       "      <td>Vuntut</td>\n",
       "      <td>NaN</td>\n",
       "      <td>Yukon 68°22′N 139°51′W﻿ / ﻿68.367°N 139.850°W</td>\n",
       "      <td>1993</td>\n",
       "      <td>4,345 km2 (1,678 sq mi)</td>\n",
       "      <td>Northern Yukon</td>\n",
       "      <td>Adjacent to the Ivvavik National Park and the ...</td>\n",
       "    </tr>\n",
       "    <tr>\n",
       "      <th>44</th>\n",
       "      <td>Wapusk</td>\n",
       "      <td>NaN</td>\n",
       "      <td>Manitoba 57°46′N 93°22′W﻿ / ﻿57.767°N 93.367°W</td>\n",
       "      <td>1996</td>\n",
       "      <td>11,475 km2 (4,431 sq mi)</td>\n",
       "      <td>Hudson—James lowlands</td>\n",
       "      <td>Created from a portion of the provincial Churc...</td>\n",
       "    </tr>\n",
       "    <tr>\n",
       "      <th>45</th>\n",
       "      <td>Waterton Lakes ‡[g]</td>\n",
       "      <td>NaN</td>\n",
       "      <td>Alberta 49°03′N 113°55′W﻿ / ﻿49.050°N 113.917°W</td>\n",
       "      <td>May 30, 1895</td>\n",
       "      <td>505 km2 (195 sq mi)</td>\n",
       "      <td>Rocky Mountains</td>\n",
       "      <td>Coupled with American neighbour Glacier Nation...</td>\n",
       "    </tr>\n",
       "    <tr>\n",
       "      <th>46</th>\n",
       "      <td>Wood Buffalo *</td>\n",
       "      <td>NaN</td>\n",
       "      <td>Alberta Northwest Territories 59°23′N 112°59′W...</td>\n",
       "      <td>1922</td>\n",
       "      <td>44,972 km2 (17,364 sq mi)</td>\n",
       "      <td>Northern boreal plains</td>\n",
       "      <td>The largest park in Canada, the park protects ...</td>\n",
       "    </tr>\n",
       "    <tr>\n",
       "      <th>47</th>\n",
       "      <td>Yoho *</td>\n",
       "      <td>NaN</td>\n",
       "      <td>British Columbia 51°24′N 116°29′W﻿ / ﻿51.400°N...</td>\n",
       "      <td>October 10, 1886</td>\n",
       "      <td>1,313 km2 (507 sq mi)</td>\n",
       "      <td>Rocky Mountains</td>\n",
       "      <td>Part of the Canadian Rocky Mountain Parks Worl...</td>\n",
       "    </tr>\n",
       "  </tbody>\n",
       "</table>\n",
       "</div>"
      ],
      "text/plain": [
       "                   name  photo  \\\n",
       "43               Vuntut    NaN   \n",
       "44               Wapusk    NaN   \n",
       "45  Waterton Lakes ‡[g]    NaN   \n",
       "46       Wood Buffalo *    NaN   \n",
       "47               Yoho *    NaN   \n",
       "\n",
       "                                             location    established_12  \\\n",
       "43      Yukon 68°22′N 139°51′W﻿ / ﻿68.367°N 139.850°W              1993   \n",
       "44     Manitoba 57°46′N 93°22′W﻿ / ﻿57.767°N 93.367°W              1996   \n",
       "45    Alberta 49°03′N 113°55′W﻿ / ﻿49.050°N 113.917°W      May 30, 1895   \n",
       "46  Alberta Northwest Territories 59°23′N 112°59′W...              1922   \n",
       "47  British Columbia 51°24′N 116°29′W﻿ / ﻿51.400°N...  October 10, 1886   \n",
       "\n",
       "                 area_2017_12       natural_region_13  \\\n",
       "43    4,345 km2 (1,678 sq mi)          Northern Yukon   \n",
       "44   11,475 km2 (4,431 sq mi)   Hudson—James lowlands   \n",
       "45        505 km2 (195 sq mi)         Rocky Mountains   \n",
       "46  44,972 km2 (17,364 sq mi)  Northern boreal plains   \n",
       "47      1,313 km2 (507 sq mi)         Rocky Mountains   \n",
       "\n",
       "                                          description  \n",
       "43  Adjacent to the Ivvavik National Park and the ...  \n",
       "44  Created from a portion of the provincial Churc...  \n",
       "45  Coupled with American neighbour Glacier Nation...  \n",
       "46  The largest park in Canada, the park protects ...  \n",
       "47  Part of the Canadian Rocky Mountain Parks Worl...  "
      ]
     },
     "execution_count": 6,
     "metadata": {},
     "output_type": "execute_result"
    }
   ],
   "source": [
    "df.tail()"
   ]
  },
  {
   "cell_type": "code",
   "execution_count": null,
   "metadata": {},
   "outputs": [],
   "source": []
  }
 ],
 "metadata": {
  "kernelspec": {
   "display_name": "Python 3 (ipykernel)",
   "language": "python",
   "name": "python3"
  },
  "language_info": {
   "codemirror_mode": {
    "name": "ipython",
    "version": 3
   },
   "file_extension": ".py",
   "mimetype": "text/x-python",
   "name": "python",
   "nbconvert_exporter": "python",
   "pygments_lexer": "ipython3",
   "version": "3.9.16"
  }
 },
 "nbformat": 4,
 "nbformat_minor": 4
}
