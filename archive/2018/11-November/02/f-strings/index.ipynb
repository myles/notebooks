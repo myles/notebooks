{
 "cells": [
  {
   "cell_type": "markdown",
   "metadata": {
    "slideshow": {
     "slide_type": "-"
    }
   },
   "source": [
    "f-strings are **TOTALLY AWESOME**!"
   ]
  },
  {
   "cell_type": "code",
   "execution_count": 1,
   "metadata": {
    "hide_input": false,
    "slideshow": {
     "slide_type": "-"
    }
   },
   "outputs": [
    {
     "data": {
      "text/plain": [
       "'Welcome to Braithwaite I/O!'"
      ]
     },
     "execution_count": 1,
     "metadata": {},
     "output_type": "execute_result"
    }
   ],
   "source": [
    "website = \"Braithwaite I/O\"\n",
    "\n",
    "f\"Welcome to {website}!\""
   ]
  },
  {
   "cell_type": "markdown",
   "metadata": {
    "slideshow": {
     "slide_type": "-"
    }
   },
   "source": [
    "## I found out about them at PyCon Canada 2017 at Mariatta Wijaya keynote."
   ]
  },
  {
   "cell_type": "code",
   "execution_count": 2,
   "metadata": {
    "slideshow": {
     "slide_type": "-"
    }
   },
   "outputs": [
    {
     "data": {
      "text/html": [
       "\n",
       "        <iframe\n",
       "            width=\"560\"\n",
       "            height=\"315\"\n",
       "            src=\"https://www.youtube-nocookie.com/embed/kGd1TVfP_Ds?frameborder=0&allow=accelerometer%3B+autoplay%3B+encrypted-media%3B+gyroscope%3B+picture-in-picture&allowfullscreen=False\"\n",
       "            frameborder=\"0\"\n",
       "            allowfullscreen\n",
       "            \n",
       "        ></iframe>\n",
       "        "
      ],
      "text/plain": [
       "<IPython.lib.display.IFrame at 0x106f84ac0>"
      ]
     },
     "execution_count": 2,
     "metadata": {},
     "output_type": "execute_result"
    }
   ],
   "source": [
    "from IPython.display import IFrame\n",
    "\n",
    "IFrame(\n",
    "    src=\"https://www.youtube-nocookie.com/embed/kGd1TVfP_Ds\",\n",
    "    width=\"560\",\n",
    "    height=\"315\",\n",
    "    frameborder=\"0\",\n",
    "    allow=\"accelerometer; autoplay; encrypted-media; gyroscope; picture-in-picture\",\n",
    "    allowfullscreen=False,\n",
    ")"
   ]
  },
  {
   "cell_type": "markdown",
   "metadata": {
    "slideshow": {
     "slide_type": "-"
    }
   },
   "source": [
    "## They also support expressions inside the `{ }`"
   ]
  },
  {
   "cell_type": "code",
   "execution_count": 3,
   "metadata": {
    "slideshow": {
     "slide_type": "-"
    }
   },
   "outputs": [
    {
     "data": {
      "text/plain": [
       "'Welcome to BRAITHWAITE I/O!'"
      ]
     },
     "execution_count": 3,
     "metadata": {},
     "output_type": "execute_result"
    }
   ],
   "source": [
    "f\"Welcome to {website.upper()}!\""
   ]
  },
  {
   "cell_type": "markdown",
   "metadata": {
    "slideshow": {
     "slide_type": "-"
    }
   },
   "source": [
    "## Even `dict`"
   ]
  },
  {
   "cell_type": "code",
   "execution_count": 4,
   "metadata": {
    "slideshow": {
     "slide_type": "-"
    }
   },
   "outputs": [],
   "source": [
    "portfolio = {\"AAPL\": 222.77, \"RHT\": 122.31, \"GOOGL\": 1111.77}"
   ]
  },
  {
   "cell_type": "code",
   "execution_count": 5,
   "metadata": {
    "slideshow": {
     "slide_type": "-"
    }
   },
   "outputs": [
    {
     "ename": "SyntaxError",
     "evalue": "f-string: unmatched '[' (883128829.py, line 1)",
     "output_type": "error",
     "traceback": [
      "\u001b[0;36m  Cell \u001b[0;32mIn[5], line 1\u001b[0;36m\u001b[0m\n\u001b[0;31m    f'${portfolio['GOOGL']}USD'\u001b[0m\n\u001b[0m                   ^\u001b[0m\n\u001b[0;31mSyntaxError\u001b[0m\u001b[0;31m:\u001b[0m f-string: unmatched '['\n"
     ]
    }
   ],
   "source": [
    "f'${portfolio['GOOGL']}USD'"
   ]
  },
  {
   "cell_type": "markdown",
   "metadata": {
    "slideshow": {
     "slide_type": "-"
    }
   },
   "source": [
    "### While that's a little embarrassing..."
   ]
  },
  {
   "cell_type": "code",
   "execution_count": 6,
   "metadata": {
    "slideshow": {
     "slide_type": "-"
    }
   },
   "outputs": [
    {
     "data": {
      "text/plain": [
       "'$1111.77USD'"
      ]
     },
     "execution_count": 6,
     "metadata": {},
     "output_type": "execute_result"
    }
   ],
   "source": [
    "f\"${portfolio['GOOGL']}USD\""
   ]
  },
  {
   "cell_type": "markdown",
   "metadata": {
    "slideshow": {
     "slide_type": "-"
    }
   },
   "source": [
    "## But look what else you can do..."
   ]
  },
  {
   "cell_type": "code",
   "execution_count": 7,
   "metadata": {
    "slideshow": {
     "slide_type": "fragment"
    }
   },
   "outputs": [
    {
     "data": {
      "text/plain": [
       "'$1,111.77USD'"
      ]
     },
     "execution_count": 7,
     "metadata": {},
     "output_type": "execute_result"
    }
   ],
   "source": [
    "f\"${portfolio['GOOGL']:,}USD\""
   ]
  },
  {
   "cell_type": "markdown",
   "metadata": {
    "slideshow": {
     "slide_type": "slide"
    }
   },
   "source": [
    "# Hey I heard you like dates and times..."
   ]
  },
  {
   "cell_type": "code",
   "execution_count": 8,
   "metadata": {
    "slideshow": {
     "slide_type": "fragment"
    }
   },
   "outputs": [
    {
     "data": {
      "text/plain": [
       "'This notebook was run on 18 March 2023 at 15:35!'"
      ]
     },
     "execution_count": 8,
     "metadata": {},
     "output_type": "execute_result"
    }
   ],
   "source": [
    "import datetime\n",
    "\n",
    "NOW = datetime.datetime.now()\n",
    "\n",
    "f\"This notebook was run on {NOW:%d %B %Y} at {NOW:%H:%M}!\""
   ]
  },
  {
   "cell_type": "markdown",
   "metadata": {
    "slideshow": {
     "slide_type": "slide"
    }
   },
   "source": [
    "# You can use them in `class`..."
   ]
  },
  {
   "cell_type": "code",
   "execution_count": 9,
   "metadata": {
    "slideshow": {
     "slide_type": "fragment"
    }
   },
   "outputs": [],
   "source": [
    "class Drink:\n",
    "    def __init__(self, name, caffine):\n",
    "        self.name = name\n",
    "        self.caffine = caffine\n",
    "\n",
    "    def __str__(self):\n",
    "        return f\"{self.name}\"\n",
    "\n",
    "    def caffine_for_quantity(self, size=100000):\n",
    "        return (\n",
    "            f\"{self.name} has {self.caffine*size:.0f} \"\n",
    "            f\"mg for {size/1000:.0f} grams.\"\n",
    "        )"
   ]
  },
  {
   "cell_type": "code",
   "execution_count": 10,
   "metadata": {
    "slideshow": {
     "slide_type": "slide"
    }
   },
   "outputs": [
    {
     "data": {
      "text/plain": [
       "'Coffee has 40 mg for 100 grams.'"
      ]
     },
     "execution_count": 10,
     "metadata": {},
     "output_type": "execute_result"
    }
   ],
   "source": [
    "coffee = Drink(\"Coffee\", 0.0004)\n",
    "\n",
    "coffee.caffine_for_quantity()"
   ]
  },
  {
   "cell_type": "code",
   "execution_count": 11,
   "metadata": {
    "slideshow": {
     "slide_type": "fragment"
    }
   },
   "outputs": [
    {
     "data": {
      "text/plain": [
       "'Coffee has 184 mg for 460 grams.'"
      ]
     },
     "execution_count": 11,
     "metadata": {},
     "output_type": "execute_result"
    }
   ],
   "source": [
    "f\"{coffee.caffine_for_quantity(459732)}\""
   ]
  },
  {
   "cell_type": "code",
   "execution_count": 12,
   "metadata": {
    "slideshow": {
     "slide_type": "skip"
    }
   },
   "outputs": [],
   "source": [
    "import timeit\n",
    "\n",
    "format_funcs = {\n",
    "    \"f-strings\": \"\"\"\n",
    "def format(superhero, rank):\n",
    "    return f'{superhero} has a rank of {rank}!'\n",
    "\"\"\",\n",
    "    \"%-formatting\": \"\"\"\n",
    "def format(superhero, rank):\n",
    "    return '%s has a rank of %s!' % (superhero, str(rank))\n",
    "\"\"\",\n",
    "    \".format()\": \"\"\"\n",
    "def format(superhero, rank):\n",
    "    return '{} has a rank of {}!'.format(superhero, str(rank))\n",
    "\"\"\",\n",
    "    \"concatenation +\": \"\"\"\n",
    "def format(superhero, rank):\n",
    "    return superhero + ' has a rank of ' + str(rank) + '!'\n",
    "\"\"\",\n",
    "    \"concatenation ()\": \"\"\"\n",
    "def format(superhero, rank):\n",
    "    return superhero, ' has a rank of ', str(rank), '!'\n",
    "\"\"\",\n",
    "}\n",
    "\n",
    "test_func = \"\"\"def test_format():\n",
    "    for superhero in ('Wonder Woman', 'Supergirl', 'Batman', 'Robin'):\n",
    "        for rank in range (1, 101):\n",
    "            format(superhero, rank)\n",
    "\"\"\"\n",
    "\n",
    "data = []\n",
    "\n",
    "for key, func in format_funcs.items():\n",
    "    data.append(\n",
    "        {\n",
    "            \"method\": key,\n",
    "            \"time\": float(\n",
    "                timeit.timeit(\"test_format()\", func + test_func, number=10000)\n",
    "            ),\n",
    "        }\n",
    "    )"
   ]
  },
  {
   "cell_type": "code",
   "execution_count": 13,
   "metadata": {
    "slideshow": {
     "slide_type": "skip"
    }
   },
   "outputs": [],
   "source": [
    "%matplotlib inline\n",
    "import pandas as pd\n",
    "\n",
    "df = pd.DataFrame(\n",
    "    [\n",
    "        {\"method\": \"f-strings\", \"time\": 1.2825216680000153},\n",
    "        {\"method\": \"%-formatting\", \"time\": 2.282235770999989},\n",
    "        {\"method\": \".format()\", \"time\": 2.983771015000002},\n",
    "        {\"method\": \"concatenation +\", \"time\": 1.9718771689999812},\n",
    "        {\"method\": \"concatenation ()\", \"time\": 1.402194948999977},\n",
    "    ]\n",
    ")"
   ]
  },
  {
   "cell_type": "markdown",
   "metadata": {
    "slideshow": {
     "slide_type": "slide"
    }
   },
   "source": [
    "# and it's fast..."
   ]
  },
  {
   "cell_type": "code",
   "execution_count": 14,
   "metadata": {
    "slideshow": {
     "slide_type": "fragment"
    }
   },
   "outputs": [
    {
     "data": {
      "text/plain": [
       "<Axes: ylabel='method'>"
      ]
     },
     "execution_count": 14,
     "metadata": {},
     "output_type": "execute_result"
    },
    {
     "data": {
      "image/png": "[encoded data removed]",
      "text/plain": [
       "<Figure size 1200x600 with 1 Axes>"
      ]
     },
     "metadata": {},
     "output_type": "display_data"
    }
   ],
   "source": [
    "df.sort_values(\"time\").plot(\n",
    "    kind=\"barh\",\n",
    "    x=\"method\",\n",
    "    y=\"time\",\n",
    "    figsize=(12, 6),\n",
    "    fontsize=14,\n",
    "    legend=False,\n",
    ")"
   ]
  }
 ],
 "metadata": {
  "kernelspec": {
   "display_name": "Python 3 (ipykernel)",
   "language": "python",
   "name": "python3"
  },
  "language_info": {
   "codemirror_mode": {
    "name": "ipython",
    "version": 3
   },
   "file_extension": ".py",
   "mimetype": "text/x-python",
   "name": "python",
   "nbconvert_exporter": "python",
   "pygments_lexer": "ipython3",
   "version": "3.9.16"
  }
 },
 "nbformat": 4,
 "nbformat_minor": 4
}
