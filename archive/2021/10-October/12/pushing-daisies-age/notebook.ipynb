{
 "cells": [
  {
   "cell_type": "code",
   "execution_count": 1,
   "metadata": {},
   "outputs": [],
   "source": [
    "import datetime\n",
    "from operator import sub\n",
    "from dateutil.relativedelta import relativedelta\n"
   ]
  },
  {
   "cell_type": "code",
   "execution_count": 2,
   "metadata": {},
   "outputs": [],
   "source": [
    "def been_alive_for(\n",
    "    birthday: datetime.datetime,\n",
    "    as_of: datetime.datetime = None,\n",
    "):\n",
    "    \"\"\"Pushing Daisies been alive for.\"\"\"\n",
    "    if as_of is None:\n",
    "        as_of = datetime.datetime.now()\n",
    "\n",
    "    delta = relativedelta(as_of, birthday)\n",
    "\n",
    "    if delta.months:\n",
    "        days = 30 * delta.months\n",
    "    else:\n",
    "        days = delta.days\n",
    "\n",
    "    data = {\n",
    "        \"years\": delta.years,\n",
    "        \"weeks\": days / 7,\n",
    "    }\n",
    "\n",
    "    data[\"days\"] = days - (data[\"weeks\"] * 7)\n",
    "\n",
    "    if data[\"weeks\"] < 1:\n",
    "        data[\"days\"] = days\n",
    "        data[\"weeks\"] = None\n",
    "    else:\n",
    "        week_remainder = data[\"weeks\"] - round(data[\"weeks\"], 0)\n",
    "        data[\"weeks\"] = round(data[\"weeks\"], 0)\n",
    "        data[\"days\"] = data[\"days\"] + (week_remainder * 7)\n",
    "\n",
    "    if data[\"days\"] < 0:\n",
    "        data[\"weeks\"] = data[\"weeks\"] - 1\n",
    "        data[\"days\"] = 7 + data[\"days\"]\n",
    "\n",
    "    data[\"hours\"] = delta.hours\n",
    "    data[\"minutes\"] = delta.minutes\n",
    "\n",
    "    display = []\n",
    "\n",
    "    for key, value in data.items():\n",
    "        if value:\n",
    "            display.append((\"{0} {1}\".format(round(value), key)))\n",
    "\n",
    "    return \", \".join(display)\n"
   ]
  },
  {
   "cell_type": "code",
   "execution_count": 3,
   "metadata": {},
   "outputs": [
    {
     "name": "stdout",
     "output_type": "stream",
     "text": [
      "35 years, 3 weeks, 4 days, 12 hours, 2 minutes\n"
     ]
    }
   ],
   "source": [
    "myles_alive_for = been_alive_for(\n",
    "    birthday=datetime.datetime(1986, 9, 19, 8, 22),\n",
    ")\n",
    "print(myles_alive_for)\n"
   ]
  },
  {
   "cell_type": "code",
   "execution_count": null,
   "metadata": {},
   "outputs": [],
   "source": []
  }
 ],
 "metadata": {
  "kernelspec": {
   "display_name": "Python 3 (ipykernel)",
   "language": "python",
   "name": "python3"
  },
  "language_info": {
   "codemirror_mode": {
    "name": "ipython",
    "version": 3
   },
   "file_extension": ".py",
   "mimetype": "text/x-python",
   "name": "python",
   "nbconvert_exporter": "python",
   "pygments_lexer": "ipython3",
   "version": "3.8.12"
  }
 },
 "nbformat": 4,
 "nbformat_minor": 4
}
