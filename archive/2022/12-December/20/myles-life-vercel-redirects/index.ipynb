{
 "cells": [
  {
   "attachments": {},
   "cell_type": "markdown",
   "id": "cce570fc",
   "metadata": {},
   "source": [
    "I recently change the domain for my Microblog from `myles.life` to `myles.social` and need to redirect the older URLs using Vercel."
   ]
  },
  {
   "cell_type": "code",
   "execution_count": null,
   "id": "25db2b06-11f7-4ca2-bc9e-6d0c1ae7488f",
   "metadata": {},
   "outputs": [],
   "source": [
    "import datetime\n",
    "from pathlib import Path\n",
    "import json\n",
    "from urllib.parse import urlparse\n",
    "from lazymyles.download_file import download_file"
   ]
  },
  {
   "cell_type": "code",
   "execution_count": 2,
   "id": "fc4fc90a-62d1-4e26-9dcd-e7d20b0d4548",
   "metadata": {},
   "outputs": [],
   "source": [
    "ROOT_PATH = Path.cwd()\n",
    "DATA_PATH = ROOT_PATH / \"data\"\n",
    "RAW_DATA_PATH = DATA_PATH / \"raw\"\n",
    "PROCESSED_DATA_PATH = DATA_PATH / \"processed\""
   ]
  },
  {
   "cell_type": "code",
   "execution_count": 3,
   "id": "d5d30fd4-1fcc-4761-83bc-48b35af8b599",
   "metadata": {},
   "outputs": [],
   "source": [
    "FEED_JSON_PATH = download_file(\n",
    "    \"https://raw.githubusercontent.com/myles/myles.social/master/feed.json\",\n",
    "    output_path=RAW_DATA_PATH,\n",
    "    file_name=f\"feed-{datetime.date.today()}.json\",\n",
    ")"
   ]
  },
  {
   "cell_type": "code",
   "execution_count": 4,
   "id": "3e3f7ecc-8889-4a5c-b273-506bd6950788",
   "metadata": {},
   "outputs": [
    {
     "data": {
      "text/plain": [
       "\"Myles' Life\""
      ]
     },
     "execution_count": 4,
     "metadata": {},
     "output_type": "execute_result"
    }
   ],
   "source": [
    "with FEED_JSON_PATH.open() as file_obj:\n",
    "    raw_feed_json = file_obj.read()\n",
    "\n",
    "feed_json = json.loads(raw_feed_json)\n",
    "feed_json[\"title\"]"
   ]
  },
  {
   "cell_type": "code",
   "execution_count": 5,
   "id": "b5a9f499-e909-4d04-b5d2-d0e1e328659c",
   "metadata": {},
   "outputs": [],
   "source": [
    "vercel_config = {}"
   ]
  },
  {
   "cell_type": "code",
   "execution_count": 6,
   "id": "705a8a3f-0087-4465-a794-85df6754a5f0",
   "metadata": {},
   "outputs": [
    {
     "data": {
      "text/plain": [
       "{'source': '/2022/11/01/204923.html',\n",
       " 'destination': 'https://myles.social/2022/11/01/204923.html',\n",
       " 'permanent': True}"
      ]
     },
     "execution_count": 6,
     "metadata": {},
     "output_type": "execute_result"
    }
   ],
   "source": [
    "def feed_json_item_to_vercel_redirect(item: dict) -> dict:\n",
    "    url = urlparse(item[\"url\"])\n",
    "    return {\n",
    "        \"source\": url.path,\n",
    "        \"destination\": f\"https://myles.social{url.path}\",\n",
    "        \"permanent\": True,\n",
    "    }\n",
    "\n",
    "\n",
    "feed_json_item_to_vercel_redirect({\"url\": \"https://myles.life/2022/11/01/204923.html\"})"
   ]
  },
  {
   "cell_type": "code",
   "execution_count": 7,
   "id": "bd406a30-1ff0-457a-8ca4-2c1f72c18428",
   "metadata": {},
   "outputs": [],
   "source": [
    "vercel_config[\"redirects\"] = [\n",
    "    feed_json_item_to_vercel_redirect(item) for item in feed_json[\"items\"]\n",
    "]"
   ]
  },
  {
   "cell_type": "code",
   "execution_count": 10,
   "id": "10c62126-0ee4-4de3-90cc-259a2d7dd928",
   "metadata": {},
   "outputs": [],
   "source": [
    "raw_vercel_config = json.dumps(vercel_config, sort_keys=True, indent=4)\n",
    "\n",
    "VERCEL_CONFIG_PATH = PROCESSED_DATA_PATH / \"vercel.json\"\n",
    "\n",
    "with VERCEL_CONFIG_PATH.open(\"w+\") as file_obj:\n",
    "    file_obj.write(raw_vercel_config)"
   ]
  },
  {
   "cell_type": "code",
   "execution_count": null,
   "id": "a2bbb05c-e2c9-4eb6-b7ab-dc2e60c7828f",
   "metadata": {},
   "outputs": [],
   "source": []
  }
 ],
 "metadata": {
  "kernelspec": {
   "display_name": "Python 3 (ipykernel)",
   "language": "python",
   "name": "python3"
  },
  "language_info": {
   "codemirror_mode": {
    "name": "ipython",
    "version": 3
   },
   "file_extension": ".py",
   "mimetype": "text/x-python",
   "name": "python",
   "nbconvert_exporter": "python",
   "pygments_lexer": "ipython3",
   "version": "3.9.15"
  }
 },
 "nbformat": 4,
 "nbformat_minor": 5
}
