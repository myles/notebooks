{
 "cells": [
  {
   "cell_type": "code",
   "execution_count": 1,
   "id": "680c6a3e-7031-45a6-a4a2-3c3e35a9bb80",
   "metadata": {},
   "outputs": [],
   "source": [
    "from pathlib import Path\n",
    "import pandas as pd\n",
    "import numpy as np"
   ]
  },
  {
   "cell_type": "code",
   "execution_count": 2,
   "id": "24fdb635-5205-4375-b90d-d35ee027d1c5",
   "metadata": {},
   "outputs": [
    {
     "data": {
      "text/html": [
       "<div>\n",
       "<style scoped>\n",
       "    .dataframe tbody tr th:only-of-type {\n",
       "        vertical-align: middle;\n",
       "    }\n",
       "\n",
       "    .dataframe tbody tr th {\n",
       "        vertical-align: top;\n",
       "    }\n",
       "\n",
       "    .dataframe thead th {\n",
       "        text-align: right;\n",
       "    }\n",
       "</style>\n",
       "<table border=\"1\" class=\"dataframe\">\n",
       "  <thead>\n",
       "    <tr style=\"text-align: right;\">\n",
       "      <th></th>\n",
       "      <th>Calories</th>\n",
       "    </tr>\n",
       "  </thead>\n",
       "  <tbody>\n",
       "    <tr>\n",
       "      <th>0</th>\n",
       "      <td>7769\\n6798\\n11685\\n10826\\n11807\\n5786\\n7932</td>\n",
       "    </tr>\n",
       "    <tr>\n",
       "      <th>1</th>\n",
       "      <td>54883</td>\n",
       "    </tr>\n",
       "    <tr>\n",
       "      <th>2</th>\n",
       "      <td>7069\\n5792\\n1519\\n7380\\n7034\\n6203\\n5706\\n1850...</td>\n",
       "    </tr>\n",
       "    <tr>\n",
       "      <th>3</th>\n",
       "      <td>9150\\n6417\\n5057\\n3568\\n9352\\n7134\\n6040\\n2451...</td>\n",
       "    </tr>\n",
       "    <tr>\n",
       "      <th>4</th>\n",
       "      <td>10996\\n11802\\n5525\\n5705\\n8266\\n3742</td>\n",
       "    </tr>\n",
       "  </tbody>\n",
       "</table>\n",
       "</div>"
      ],
      "text/plain": [
       "                                            Calories\n",
       "0        7769\\n6798\\n11685\\n10826\\n11807\\n5786\\n7932\n",
       "1                                              54883\n",
       "2  7069\\n5792\\n1519\\n7380\\n7034\\n6203\\n5706\\n1850...\n",
       "3  9150\\n6417\\n5057\\n3568\\n9352\\n7134\\n6040\\n2451...\n",
       "4               10996\\n11802\\n5525\\n5705\\n8266\\n3742"
      ]
     },
     "execution_count": 2,
     "metadata": {},
     "output_type": "execute_result"
    }
   ],
   "source": [
    "with Path(\"day-01-puzzle-input.txt\").open() as file_obj:\n",
    "    puzzle_input = file_obj.read()\n",
    "\n",
    "df = pd.DataFrame(puzzle_input.split('\\n\\n'), columns=('Calories',))\n",
    "df.head()"
   ]
  },
  {
   "cell_type": "code",
   "execution_count": 3,
   "id": "8e13a647-4f60-43e4-becd-bdf631f5ca05",
   "metadata": {},
   "outputs": [
    {
     "data": {
      "text/html": [
       "<div>\n",
       "<style scoped>\n",
       "    .dataframe tbody tr th:only-of-type {\n",
       "        vertical-align: middle;\n",
       "    }\n",
       "\n",
       "    .dataframe tbody tr th {\n",
       "        vertical-align: top;\n",
       "    }\n",
       "\n",
       "    .dataframe thead th {\n",
       "        text-align: right;\n",
       "    }\n",
       "</style>\n",
       "<table border=\"1\" class=\"dataframe\">\n",
       "  <thead>\n",
       "    <tr style=\"text-align: right;\">\n",
       "      <th></th>\n",
       "      <th>Calories</th>\n",
       "    </tr>\n",
       "  </thead>\n",
       "  <tbody>\n",
       "    <tr>\n",
       "      <th>0</th>\n",
       "      <td>[7769, 6798, 11685, 10826, 11807, 5786, 7932]</td>\n",
       "    </tr>\n",
       "    <tr>\n",
       "      <th>1</th>\n",
       "      <td>[54883]</td>\n",
       "    </tr>\n",
       "    <tr>\n",
       "      <th>2</th>\n",
       "      <td>[7069, 5792, 1519, 7380, 7034, 6203, 5706, 185...</td>\n",
       "    </tr>\n",
       "    <tr>\n",
       "      <th>3</th>\n",
       "      <td>[9150, 6417, 5057, 3568, 9352, 7134, 6040, 245...</td>\n",
       "    </tr>\n",
       "    <tr>\n",
       "      <th>4</th>\n",
       "      <td>[10996, 11802, 5525, 5705, 8266, 3742]</td>\n",
       "    </tr>\n",
       "  </tbody>\n",
       "</table>\n",
       "</div>"
      ],
      "text/plain": [
       "                                            Calories\n",
       "0      [7769, 6798, 11685, 10826, 11807, 5786, 7932]\n",
       "1                                            [54883]\n",
       "2  [7069, 5792, 1519, 7380, 7034, 6203, 5706, 185...\n",
       "3  [9150, 6417, 5057, 3568, 9352, 7134, 6040, 245...\n",
       "4             [10996, 11802, 5525, 5705, 8266, 3742]"
      ]
     },
     "execution_count": 3,
     "metadata": {},
     "output_type": "execute_result"
    }
   ],
   "source": [
    "df['Calories'] = df['Calories'].str.split('\\n')\n",
    "df.head()"
   ]
  },
  {
   "cell_type": "code",
   "execution_count": 4,
   "id": "0023dcfc-8db3-494a-aa54-7c9e7ab19a80",
   "metadata": {},
   "outputs": [
    {
     "data": {
      "text/html": [
       "<div>\n",
       "<style scoped>\n",
       "    .dataframe tbody tr th:only-of-type {\n",
       "        vertical-align: middle;\n",
       "    }\n",
       "\n",
       "    .dataframe tbody tr th {\n",
       "        vertical-align: top;\n",
       "    }\n",
       "\n",
       "    .dataframe thead th {\n",
       "        text-align: right;\n",
       "    }\n",
       "</style>\n",
       "<table border=\"1\" class=\"dataframe\">\n",
       "  <thead>\n",
       "    <tr style=\"text-align: right;\">\n",
       "      <th></th>\n",
       "      <th>Calories</th>\n",
       "    </tr>\n",
       "  </thead>\n",
       "  <tbody>\n",
       "    <tr>\n",
       "      <th>0</th>\n",
       "      <td>[7769, 6798, 11685, 10826, 11807, 5786, 7932]</td>\n",
       "    </tr>\n",
       "    <tr>\n",
       "      <th>1</th>\n",
       "      <td>[54883]</td>\n",
       "    </tr>\n",
       "    <tr>\n",
       "      <th>2</th>\n",
       "      <td>[7069, 5792, 1519, 7380, 7034, 6203, 5706, 185...</td>\n",
       "    </tr>\n",
       "    <tr>\n",
       "      <th>3</th>\n",
       "      <td>[9150, 6417, 5057, 3568, 9352, 7134, 6040, 245...</td>\n",
       "    </tr>\n",
       "    <tr>\n",
       "      <th>4</th>\n",
       "      <td>[10996, 11802, 5525, 5705, 8266, 3742]</td>\n",
       "    </tr>\n",
       "  </tbody>\n",
       "</table>\n",
       "</div>"
      ],
      "text/plain": [
       "                                            Calories\n",
       "0      [7769, 6798, 11685, 10826, 11807, 5786, 7932]\n",
       "1                                            [54883]\n",
       "2  [7069, 5792, 1519, 7380, 7034, 6203, 5706, 185...\n",
       "3  [9150, 6417, 5057, 3568, 9352, 7134, 6040, 245...\n",
       "4             [10996, 11802, 5525, 5705, 8266, 3742]"
      ]
     },
     "execution_count": 4,
     "metadata": {},
     "output_type": "execute_result"
    }
   ],
   "source": [
    "def clean_calories(value):\n",
    "    value = np.array(value)\n",
    "    return value.astype(np.int32)\n",
    "\n",
    "df['Calories'] = df['Calories'].apply(clean_calories)\n",
    "df.head()"
   ]
  },
  {
   "cell_type": "markdown",
   "id": "73a93f7f-6a22-47d5-8362-2ca9d9e277f7",
   "metadata": {},
   "source": [
    "**Part One**"
   ]
  },
  {
   "cell_type": "code",
   "execution_count": 5,
   "id": "644f4c5a-39c5-4ed4-83bf-25a91fa044cb",
   "metadata": {},
   "outputs": [
    {
     "data": {
      "text/html": [
       "<div>\n",
       "<style scoped>\n",
       "    .dataframe tbody tr th:only-of-type {\n",
       "        vertical-align: middle;\n",
       "    }\n",
       "\n",
       "    .dataframe tbody tr th {\n",
       "        vertical-align: top;\n",
       "    }\n",
       "\n",
       "    .dataframe thead th {\n",
       "        text-align: right;\n",
       "    }\n",
       "</style>\n",
       "<table border=\"1\" class=\"dataframe\">\n",
       "  <thead>\n",
       "    <tr style=\"text-align: right;\">\n",
       "      <th></th>\n",
       "      <th>Calories</th>\n",
       "      <th>Total</th>\n",
       "    </tr>\n",
       "  </thead>\n",
       "  <tbody>\n",
       "    <tr>\n",
       "      <th>0</th>\n",
       "      <td>[7769, 6798, 11685, 10826, 11807, 5786, 7932]</td>\n",
       "      <td>62603</td>\n",
       "    </tr>\n",
       "    <tr>\n",
       "      <th>1</th>\n",
       "      <td>[54883]</td>\n",
       "      <td>54883</td>\n",
       "    </tr>\n",
       "    <tr>\n",
       "      <th>2</th>\n",
       "      <td>[7069, 5792, 1519, 7380, 7034, 6203, 5706, 185...</td>\n",
       "      <td>63535</td>\n",
       "    </tr>\n",
       "    <tr>\n",
       "      <th>3</th>\n",
       "      <td>[9150, 6417, 5057, 3568, 9352, 7134, 6040, 245...</td>\n",
       "      <td>51464</td>\n",
       "    </tr>\n",
       "    <tr>\n",
       "      <th>4</th>\n",
       "      <td>[10996, 11802, 5525, 5705, 8266, 3742]</td>\n",
       "      <td>46036</td>\n",
       "    </tr>\n",
       "  </tbody>\n",
       "</table>\n",
       "</div>"
      ],
      "text/plain": [
       "                                            Calories  Total\n",
       "0      [7769, 6798, 11685, 10826, 11807, 5786, 7932]  62603\n",
       "1                                            [54883]  54883\n",
       "2  [7069, 5792, 1519, 7380, 7034, 6203, 5706, 185...  63535\n",
       "3  [9150, 6417, 5057, 3568, 9352, 7134, 6040, 245...  51464\n",
       "4             [10996, 11802, 5525, 5705, 8266, 3742]  46036"
      ]
     },
     "execution_count": 5,
     "metadata": {},
     "output_type": "execute_result"
    }
   ],
   "source": [
    "df['Total'] = df['Calories'].apply(np.sum)\n",
    "df.head()"
   ]
  },
  {
   "cell_type": "code",
   "execution_count": 6,
   "id": "efbad7a4-3da7-4384-9d87-5269bafe1d24",
   "metadata": {},
   "outputs": [
    {
     "data": {
      "text/plain": [
       "71780"
      ]
     },
     "execution_count": 6,
     "metadata": {},
     "output_type": "execute_result"
    }
   ],
   "source": [
    "df['Total'].max()"
   ]
  },
  {
   "cell_type": "markdown",
   "id": "1396fbc8-1209-4dee-8f23-bc55a89b8a00",
   "metadata": {},
   "source": [
    "**Part Two**"
   ]
  },
  {
   "cell_type": "code",
   "execution_count": 7,
   "id": "c425f447-0637-41e8-9a09-b754f383b961",
   "metadata": {},
   "outputs": [
    {
     "data": {
      "text/html": [
       "<div>\n",
       "<style scoped>\n",
       "    .dataframe tbody tr th:only-of-type {\n",
       "        vertical-align: middle;\n",
       "    }\n",
       "\n",
       "    .dataframe tbody tr th {\n",
       "        vertical-align: top;\n",
       "    }\n",
       "\n",
       "    .dataframe thead th {\n",
       "        text-align: right;\n",
       "    }\n",
       "</style>\n",
       "<table border=\"1\" class=\"dataframe\">\n",
       "  <thead>\n",
       "    <tr style=\"text-align: right;\">\n",
       "      <th></th>\n",
       "      <th>Calories</th>\n",
       "      <th>Total</th>\n",
       "    </tr>\n",
       "  </thead>\n",
       "  <tbody>\n",
       "    <tr>\n",
       "      <th>34</th>\n",
       "      <td>[9739, 11547, 11940, 10268, 11939, 10825, 5522]</td>\n",
       "      <td>71780</td>\n",
       "    </tr>\n",
       "    <tr>\n",
       "      <th>224</th>\n",
       "      <td>[24591, 21630, 25260]</td>\n",
       "      <td>71481</td>\n",
       "    </tr>\n",
       "    <tr>\n",
       "      <th>75</th>\n",
       "      <td>[69228]</td>\n",
       "      <td>69228</td>\n",
       "    </tr>\n",
       "    <tr>\n",
       "      <th>121</th>\n",
       "      <td>[33797, 34907]</td>\n",
       "      <td>68704</td>\n",
       "    </tr>\n",
       "    <tr>\n",
       "      <th>148</th>\n",
       "      <td>[13509, 11975, 12287, 10636, 12399, 7668]</td>\n",
       "      <td>68474</td>\n",
       "    </tr>\n",
       "  </tbody>\n",
       "</table>\n",
       "</div>"
      ],
      "text/plain": [
       "                                            Calories  Total\n",
       "34   [9739, 11547, 11940, 10268, 11939, 10825, 5522]  71780\n",
       "224                            [24591, 21630, 25260]  71481\n",
       "75                                           [69228]  69228\n",
       "121                                   [33797, 34907]  68704\n",
       "148        [13509, 11975, 12287, 10636, 12399, 7668]  68474"
      ]
     },
     "execution_count": 7,
     "metadata": {},
     "output_type": "execute_result"
    }
   ],
   "source": [
    "df = df.sort_values(by=\"Total\", ascending=False)\n",
    "df.head()"
   ]
  },
  {
   "cell_type": "code",
   "execution_count": 8,
   "id": "8725edfb-6675-4eed-9f31-dcd35a4bceeb",
   "metadata": {},
   "outputs": [
    {
     "data": {
      "text/plain": [
       "212489"
      ]
     },
     "execution_count": 8,
     "metadata": {},
     "output_type": "execute_result"
    }
   ],
   "source": [
    "df[\"Total\"][:3].sum()"
   ]
  },
  {
   "cell_type": "code",
   "execution_count": null,
   "id": "d8f080eb-0790-42cc-9a20-5dd5e91f29a1",
   "metadata": {},
   "outputs": [],
   "source": []
  }
 ],
 "metadata": {
  "kernelspec": {
   "display_name": "Python 3 (ipykernel)",
   "language": "python",
   "name": "python3"
  },
  "language_info": {
   "codemirror_mode": {
    "name": "ipython",
    "version": 3
   },
   "file_extension": ".py",
   "mimetype": "text/x-python",
   "name": "python",
   "nbconvert_exporter": "python",
   "pygments_lexer": "ipython3",
   "version": "3.9.15"
  }
 },
 "nbformat": 4,
 "nbformat_minor": 5
}
