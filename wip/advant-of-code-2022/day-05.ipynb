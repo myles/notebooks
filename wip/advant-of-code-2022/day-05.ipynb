{
 "cells": [
  {
   "cell_type": "code",
   "execution_count": 1,
   "id": "4916f5b1-3ccf-4feb-b9ed-9c709cfc34d3",
   "metadata": {},
   "outputs": [],
   "source": [
    "from pathlib import Path\n",
    "from typing import Dict, List\n",
    "import re\n",
    "import pandas as pd"
   ]
  },
  {
   "cell_type": "code",
   "execution_count": 2,
   "id": "3b869ee0-8499-49e0-9c0a-8720ae16df42",
   "metadata": {},
   "outputs": [],
   "source": [
    "with Path(\"day-05-puzzle-input.txt\").open() as file_obj:\n",
    "    contents = file_obj.read()\n",
    "\n",
    "current_stack_arrangement, rearrangement_procedures = contents.split(\"\\n\\n\")"
   ]
  },
  {
   "cell_type": "code",
   "execution_count": 3,
   "id": "6c642410-b0fb-4c99-8c19-f87a2ce4e764",
   "metadata": {},
   "outputs": [
    {
     "name": "stdout",
     "output_type": "stream",
     "text": [
      "    [W]         [J]     [J]        \n",
      "    [V]     [F] [F] [S] [S]        \n",
      "    [S] [M] [R] [W] [M] [C]        \n",
      "    [M] [G] [W] [S] [F] [G]     [C]\n",
      "[W] [P] [S] [M] [H] [N] [F]     [L]\n",
      "[R] [H] [T] [D] [L] [D] [D] [B] [W]\n",
      "[T] [C] [L] [H] [Q] [J] [B] [T] [N]\n",
      "[G] [G] [C] [J] [P] [P] [Z] [R] [H]\n",
      " 1   2   3   4   5   6   7   8   9 \n"
     ]
    }
   ],
   "source": [
    "print(current_stack_arrangement)"
   ]
  },
  {
   "cell_type": "code",
   "execution_count": 4,
   "id": "8e342d07-f460-4bc2-b945-2a556ad7b6a5",
   "metadata": {},
   "outputs": [
    {
     "data": {
      "text/plain": [
       "['    [W]         [J]     [J]        ',\n",
       " '    [V]     [F] [F] [S] [S]        ',\n",
       " '    [S] [M] [R] [W] [M] [C]        ',\n",
       " '    [M] [G] [W] [S] [F] [G]     [C]',\n",
       " '[W] [P] [S] [M] [H] [N] [F]     [L]',\n",
       " '[R] [H] [T] [D] [L] [D] [D] [B] [W]',\n",
       " '[T] [C] [L] [H] [Q] [J] [B] [T] [N]',\n",
       " '[G] [G] [C] [J] [P] [P] [Z] [R] [H]']"
      ]
     },
     "execution_count": 4,
     "metadata": {},
     "output_type": "execute_result"
    }
   ],
   "source": [
    "current_stack_arrangement.splitlines()[:-1]"
   ]
  },
  {
   "cell_type": "code",
   "execution_count": 21,
   "id": "fc7da536-d99e-42d3-b2b6-86344858ef6f",
   "metadata": {},
   "outputs": [
    {
     "data": {
      "text/html": [
       "<div>\n",
       "<style scoped>\n",
       "    .dataframe tbody tr th:only-of-type {\n",
       "        vertical-align: middle;\n",
       "    }\n",
       "\n",
       "    .dataframe tbody tr th {\n",
       "        vertical-align: top;\n",
       "    }\n",
       "\n",
       "    .dataframe thead th {\n",
       "        text-align: right;\n",
       "    }\n",
       "</style>\n",
       "<table border=\"1\" class=\"dataframe\">\n",
       "  <thead>\n",
       "    <tr style=\"text-align: right;\">\n",
       "      <th></th>\n",
       "      <th>1</th>\n",
       "      <th>2</th>\n",
       "      <th>3</th>\n",
       "      <th>4</th>\n",
       "      <th>5</th>\n",
       "      <th>6</th>\n",
       "      <th>7</th>\n",
       "      <th>8</th>\n",
       "      <th>9</th>\n",
       "    </tr>\n",
       "  </thead>\n",
       "  <tbody>\n",
       "    <tr>\n",
       "      <th>0</th>\n",
       "      <td>G</td>\n",
       "      <td>G</td>\n",
       "      <td>C</td>\n",
       "      <td>J</td>\n",
       "      <td>P</td>\n",
       "      <td>P</td>\n",
       "      <td>Z</td>\n",
       "      <td>R</td>\n",
       "      <td>H</td>\n",
       "    </tr>\n",
       "    <tr>\n",
       "      <th>1</th>\n",
       "      <td>T</td>\n",
       "      <td>C</td>\n",
       "      <td>L</td>\n",
       "      <td>H</td>\n",
       "      <td>Q</td>\n",
       "      <td>J</td>\n",
       "      <td>B</td>\n",
       "      <td>T</td>\n",
       "      <td>N</td>\n",
       "    </tr>\n",
       "    <tr>\n",
       "      <th>2</th>\n",
       "      <td>R</td>\n",
       "      <td>H</td>\n",
       "      <td>T</td>\n",
       "      <td>D</td>\n",
       "      <td>L</td>\n",
       "      <td>D</td>\n",
       "      <td>D</td>\n",
       "      <td>B</td>\n",
       "      <td>W</td>\n",
       "    </tr>\n",
       "    <tr>\n",
       "      <th>3</th>\n",
       "      <td>W</td>\n",
       "      <td>P</td>\n",
       "      <td>S</td>\n",
       "      <td>M</td>\n",
       "      <td>H</td>\n",
       "      <td>N</td>\n",
       "      <td>F</td>\n",
       "      <td></td>\n",
       "      <td>L</td>\n",
       "    </tr>\n",
       "    <tr>\n",
       "      <th>4</th>\n",
       "      <td></td>\n",
       "      <td>M</td>\n",
       "      <td>G</td>\n",
       "      <td>W</td>\n",
       "      <td>S</td>\n",
       "      <td>F</td>\n",
       "      <td>G</td>\n",
       "      <td></td>\n",
       "      <td>C</td>\n",
       "    </tr>\n",
       "    <tr>\n",
       "      <th>5</th>\n",
       "      <td></td>\n",
       "      <td>S</td>\n",
       "      <td>M</td>\n",
       "      <td>R</td>\n",
       "      <td>W</td>\n",
       "      <td>M</td>\n",
       "      <td>C</td>\n",
       "      <td></td>\n",
       "      <td></td>\n",
       "    </tr>\n",
       "    <tr>\n",
       "      <th>6</th>\n",
       "      <td></td>\n",
       "      <td>V</td>\n",
       "      <td></td>\n",
       "      <td>F</td>\n",
       "      <td>F</td>\n",
       "      <td>S</td>\n",
       "      <td>S</td>\n",
       "      <td></td>\n",
       "      <td></td>\n",
       "    </tr>\n",
       "    <tr>\n",
       "      <th>7</th>\n",
       "      <td></td>\n",
       "      <td>W</td>\n",
       "      <td></td>\n",
       "      <td></td>\n",
       "      <td>J</td>\n",
       "      <td></td>\n",
       "      <td>J</td>\n",
       "      <td></td>\n",
       "      <td></td>\n",
       "    </tr>\n",
       "  </tbody>\n",
       "</table>\n",
       "</div>"
      ],
      "text/plain": [
       "   1  2  3  4  5  6  7  8  9\n",
       "0  G  G  C  J  P  P  Z  R  H\n",
       "1  T  C  L  H  Q  J  B  T  N\n",
       "2  R  H  T  D  L  D  D  B  W\n",
       "3  W  P  S  M  H  N  F     L\n",
       "4     M  G  W  S  F  G     C\n",
       "5     S  M  R  W  M  C      \n",
       "6     V     F  F  S  S      \n",
       "7     W        J     J      "
      ]
     },
     "execution_count": 21,
     "metadata": {},
     "output_type": "execute_result"
    }
   ],
   "source": [
    "STACK_ARGEMENT_REGEX = re.compile(r\" \\s{3}|\\[\\w\\]\")\n",
    "\n",
    "\n",
    "def build_current_stack_arrangement(\n",
    "    current_stack_arrangement: str,\n",
    ") -> Dict[str, List[str]]:\n",
    "    \"\"\"\n",
    "    Build current stack arrangement.\n",
    "    \"\"\"\n",
    "    stacks = current_stack_arrangement.splitlines()[-1].split()\n",
    "\n",
    "    result = {}\n",
    "    for stack in stacks:\n",
    "        result[stack] = []\n",
    "\n",
    "    for stack_level in current_stack_arrangement.splitlines()[:-1]:\n",
    "        crates = STACK_ARGEMENT_REGEX.findall(stack_level)\n",
    "\n",
    "        for index, crate in enumerate(crates):\n",
    "            crate = crate.strip().replace(\"[\", \"\").replace(\"]\", \"\")\n",
    "            result[stacks[index]].append(crate)\n",
    "\n",
    "    return result\n",
    "\n",
    "\n",
    "df = pd.DataFrame(build_current_stack_arrangement(current_stack_arrangement))\n",
    "df = df.sort_index(ascending=False).reset_index(drop=True)\n",
    "df.head(8)"
   ]
  },
  {
   "cell_type": "code",
   "execution_count": 22,
   "id": "e4fbac83-3b55-472c-8c65-acdd50b3d44e",
   "metadata": {},
   "outputs": [
    {
     "data": {
      "text/html": [
       "<div>\n",
       "<style scoped>\n",
       "    .dataframe tbody tr th:only-of-type {\n",
       "        vertical-align: middle;\n",
       "    }\n",
       "\n",
       "    .dataframe tbody tr th {\n",
       "        vertical-align: top;\n",
       "    }\n",
       "\n",
       "    .dataframe thead th {\n",
       "        text-align: right;\n",
       "    }\n",
       "</style>\n",
       "<table border=\"1\" class=\"dataframe\">\n",
       "  <thead>\n",
       "    <tr style=\"text-align: right;\">\n",
       "      <th></th>\n",
       "      <th>count</th>\n",
       "      <th>start</th>\n",
       "      <th>end</th>\n",
       "    </tr>\n",
       "  </thead>\n",
       "  <tbody>\n",
       "    <tr>\n",
       "      <th>0</th>\n",
       "      <td>3</td>\n",
       "      <td>4</td>\n",
       "      <td>3</td>\n",
       "    </tr>\n",
       "    <tr>\n",
       "      <th>1</th>\n",
       "      <td>3</td>\n",
       "      <td>8</td>\n",
       "      <td>6</td>\n",
       "    </tr>\n",
       "    <tr>\n",
       "      <th>2</th>\n",
       "      <td>2</td>\n",
       "      <td>3</td>\n",
       "      <td>8</td>\n",
       "    </tr>\n",
       "    <tr>\n",
       "      <th>3</th>\n",
       "      <td>3</td>\n",
       "      <td>7</td>\n",
       "      <td>2</td>\n",
       "    </tr>\n",
       "    <tr>\n",
       "      <th>4</th>\n",
       "      <td>1</td>\n",
       "      <td>1</td>\n",
       "      <td>3</td>\n",
       "    </tr>\n",
       "  </tbody>\n",
       "</table>\n",
       "</div>"
      ],
      "text/plain": [
       "  count start end\n",
       "0     3     4   3\n",
       "1     3     8   6\n",
       "2     2     3   8\n",
       "3     3     7   2\n",
       "4     1     1   3"
      ]
     },
     "execution_count": 22,
     "metadata": {},
     "output_type": "execute_result"
    }
   ],
   "source": [
    "PROCEDURE_REGEX = re.compile(\n",
    "    r\"^move (?P<count>\\d+) from (?P<start>\\d+) to (?P<end>\\d+)$\"\n",
    ")\n",
    "\n",
    "\n",
    "def build_rearrangement_procedures(\n",
    "    rearrangement_procedures: str,\n",
    ") -> Dict[str, str]:\n",
    "    procedures = []\n",
    "    for raw_procedure in rearrangement_procedures.strip().splitlines():\n",
    "        procedures += [PROCEDURE_REGEX.fullmatch(raw_procedure).groupdict()]\n",
    "    return procedures\n",
    "\n",
    "\n",
    "df_procedures = pd.DataFrame(\n",
    "    build_rearrangement_procedures(rearrangement_procedures)\n",
    ")\n",
    "df_procedures.head()"
   ]
  },
  {
   "cell_type": "code",
   "execution_count": 23,
   "id": "132ce032-e2c0-4e1f-91b9-50ffe9def342",
   "metadata": {},
   "outputs": [],
   "source": [
    "for index, procedure in df_procedures.iterrows():\n",
    "    count = procedure['count']\n",
    "    start = procedure['start']\n",
    "    end = procedure['end']\n",
    "\n",
    "    if count < df[\"3\"][df[\"3\"] == \"\"].count():\n",
    "    \n",
    "    df[start]"
   ]
  },
  {
   "cell_type": "code",
   "execution_count": 27,
   "id": "b55bf1ea-8256-4b71-8508-a6d8609adb89",
   "metadata": {},
   "outputs": [
    {
     "data": {
      "text/plain": [
       "2"
      ]
     },
     "execution_count": 27,
     "metadata": {},
     "output_type": "execute_result"
    }
   ],
   "source": [
    "df[\"3\"][df[\"3\"] == \"\"].count()"
   ]
  },
  {
   "cell_type": "code",
   "execution_count": null,
   "id": "e4091913-fef5-4c81-a512-3ebe884bc485",
   "metadata": {},
   "outputs": [],
   "source": []
  }
 ],
 "metadata": {
  "kernelspec": {
   "display_name": "Python 3 (ipykernel)",
   "language": "python",
   "name": "python3"
  },
  "language_info": {
   "codemirror_mode": {
    "name": "ipython",
    "version": 3
   },
   "file_extension": ".py",
   "mimetype": "text/x-python",
   "name": "python",
   "nbconvert_exporter": "python",
   "pygments_lexer": "ipython3",
   "version": "3.9.15"
  }
 },
 "nbformat": 4,
 "nbformat_minor": 5
}
