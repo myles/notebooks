{
 "cells": [
  {
   "cell_type": "code",
   "execution_count": 1,
   "id": "59fe5e8c-f40e-47a2-988b-b7dee17bae81",
   "metadata": {},
   "outputs": [],
   "source": [
    "from pathlib import Path"
   ]
  },
  {
   "cell_type": "code",
   "execution_count": 16,
   "id": "1c7ff317-626d-4004-b16d-bceaefd62083",
   "metadata": {},
   "outputs": [],
   "source": [
    "with Path(\"day-01-input.txt\").open() as file_obj:\n",
    "    contents = file_obj.read()"
   ]
  },
  {
   "cell_type": "markdown",
   "id": "2e72bc44-99ea-43fa-9da7-e3e95ba1a028",
   "metadata": {},
   "source": [
    "**Part One**"
   ]
  },
  {
   "cell_type": "code",
   "execution_count": 17,
   "id": "b950c5d6-54db-4574-b76a-1979c3739b56",
   "metadata": {},
   "outputs": [
    {
     "data": {
      "text/plain": [
       "232"
      ]
     },
     "execution_count": 17,
     "metadata": {},
     "output_type": "execute_result"
    }
   ],
   "source": [
    "contents.count(\"(\") - contents.count(\")\")"
   ]
  },
  {
   "cell_type": "markdown",
   "id": "0cd4ee16-0671-4d83-93f5-2ce7d0879104",
   "metadata": {},
   "source": [
    "**Part Two**"
   ]
  },
  {
   "cell_type": "code",
   "execution_count": 18,
   "id": "468f2e7f-fbf2-40ff-b403-dd3da3d8bfa0",
   "metadata": {},
   "outputs": [
    {
     "name": "stdout",
     "output_type": "stream",
     "text": [
      "-1 1783\n"
     ]
    }
   ],
   "source": [
    "floor = 0\n",
    "index = 0\n",
    "\n",
    "while floor != -1:\n",
    "    instruction = contents[index]\n",
    "\n",
    "    if instruction == \"(\":\n",
    "        floor += 1\n",
    "    elif instruction == \")\":\n",
    "        floor -= 1\n",
    "\n",
    "    index += 1\n",
    "\n",
    "print(floor, index)"
   ]
  },
  {
   "cell_type": "code",
   "execution_count": null,
   "id": "6e9a9c10-a8f1-4b35-b91b-5b773acd7710",
   "metadata": {},
   "outputs": [],
   "source": []
  }
 ],
 "metadata": {
  "kernelspec": {
   "display_name": "Python 3 (ipykernel)",
   "language": "python",
   "name": "python3"
  },
  "language_info": {
   "codemirror_mode": {
    "name": "ipython",
    "version": 3
   },
   "file_extension": ".py",
   "mimetype": "text/x-python",
   "name": "python",
   "nbconvert_exporter": "python",
   "pygments_lexer": "ipython3",
   "version": "3.9.15"
  }
 },
 "nbformat": 4,
 "nbformat_minor": 5
}
