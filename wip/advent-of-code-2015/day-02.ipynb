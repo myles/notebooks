{
 "cells": [
  {
   "cell_type": "code",
   "execution_count": 24,
   "id": "d930cd27-24c5-47fd-811c-965e5ee89a4f",
   "metadata": {},
   "outputs": [],
   "source": [
    "import pandas as pd\n",
    "import numpy as np"
   ]
  },
  {
   "cell_type": "code",
   "execution_count": 25,
   "id": "87dd7428-20c8-4337-93fd-19a171cf62f9",
   "metadata": {},
   "outputs": [
    {
     "data": {
      "text/html": [
       "<div>\n",
       "<style scoped>\n",
       "    .dataframe tbody tr th:only-of-type {\n",
       "        vertical-align: middle;\n",
       "    }\n",
       "\n",
       "    .dataframe tbody tr th {\n",
       "        vertical-align: top;\n",
       "    }\n",
       "\n",
       "    .dataframe thead th {\n",
       "        text-align: right;\n",
       "    }\n",
       "</style>\n",
       "<table border=\"1\" class=\"dataframe\">\n",
       "  <thead>\n",
       "    <tr style=\"text-align: right;\">\n",
       "      <th></th>\n",
       "      <th>Length</th>\n",
       "      <th>Width</th>\n",
       "      <th>Height</th>\n",
       "    </tr>\n",
       "  </thead>\n",
       "  <tbody>\n",
       "    <tr>\n",
       "      <th>0</th>\n",
       "      <td>29</td>\n",
       "      <td>13</td>\n",
       "      <td>26</td>\n",
       "    </tr>\n",
       "    <tr>\n",
       "      <th>1</th>\n",
       "      <td>11</td>\n",
       "      <td>11</td>\n",
       "      <td>14</td>\n",
       "    </tr>\n",
       "    <tr>\n",
       "      <th>2</th>\n",
       "      <td>27</td>\n",
       "      <td>2</td>\n",
       "      <td>5</td>\n",
       "    </tr>\n",
       "    <tr>\n",
       "      <th>3</th>\n",
       "      <td>6</td>\n",
       "      <td>10</td>\n",
       "      <td>13</td>\n",
       "    </tr>\n",
       "    <tr>\n",
       "      <th>4</th>\n",
       "      <td>15</td>\n",
       "      <td>19</td>\n",
       "      <td>10</td>\n",
       "    </tr>\n",
       "  </tbody>\n",
       "</table>\n",
       "</div>"
      ],
      "text/plain": [
       "   Length  Width  Height\n",
       "0      29     13      26\n",
       "1      11     11      14\n",
       "2      27      2       5\n",
       "3       6     10      13\n",
       "4      15     19      10"
      ]
     },
     "execution_count": 25,
     "metadata": {},
     "output_type": "execute_result"
    }
   ],
   "source": [
    "df = pd.read_csv(\n",
    "    \"day-02-input.txt\",\n",
    "    sep=\"x\",\n",
    "    names=(\n",
    "        \"Length\",\n",
    "        \"Width\",\n",
    "        \"Height\",\n",
    "    ),\n",
    ")\n",
    "df.head()"
   ]
  },
  {
   "cell_type": "markdown",
   "id": "64d0d5a7-fd4c-461a-bb0c-3fe44695df0c",
   "metadata": {},
   "source": [
    "**Part One**"
   ]
  },
  {
   "cell_type": "code",
   "execution_count": 36,
   "id": "a81f2885-ee7f-43f1-9a48-5b060df172aa",
   "metadata": {},
   "outputs": [
    {
     "data": {
      "text/html": [
       "<div>\n",
       "<style scoped>\n",
       "    .dataframe tbody tr th:only-of-type {\n",
       "        vertical-align: middle;\n",
       "    }\n",
       "\n",
       "    .dataframe tbody tr th {\n",
       "        vertical-align: top;\n",
       "    }\n",
       "\n",
       "    .dataframe thead th {\n",
       "        text-align: right;\n",
       "    }\n",
       "</style>\n",
       "<table border=\"1\" class=\"dataframe\">\n",
       "  <thead>\n",
       "    <tr style=\"text-align: right;\">\n",
       "      <th></th>\n",
       "      <th>Length</th>\n",
       "      <th>Width</th>\n",
       "      <th>Height</th>\n",
       "      <th>Sqft Paper Needed</th>\n",
       "    </tr>\n",
       "  </thead>\n",
       "  <tbody>\n",
       "    <tr>\n",
       "      <th>0</th>\n",
       "      <td>29</td>\n",
       "      <td>13</td>\n",
       "      <td>26</td>\n",
       "      <td>3276</td>\n",
       "    </tr>\n",
       "    <tr>\n",
       "      <th>1</th>\n",
       "      <td>11</td>\n",
       "      <td>11</td>\n",
       "      <td>14</td>\n",
       "      <td>979</td>\n",
       "    </tr>\n",
       "    <tr>\n",
       "      <th>2</th>\n",
       "      <td>27</td>\n",
       "      <td>2</td>\n",
       "      <td>5</td>\n",
       "      <td>408</td>\n",
       "    </tr>\n",
       "    <tr>\n",
       "      <th>3</th>\n",
       "      <td>6</td>\n",
       "      <td>10</td>\n",
       "      <td>13</td>\n",
       "      <td>596</td>\n",
       "    </tr>\n",
       "    <tr>\n",
       "      <th>4</th>\n",
       "      <td>15</td>\n",
       "      <td>19</td>\n",
       "      <td>10</td>\n",
       "      <td>1400</td>\n",
       "    </tr>\n",
       "  </tbody>\n",
       "</table>\n",
       "</div>"
      ],
      "text/plain": [
       "   Length  Width  Height  Sqft Paper Needed\n",
       "0      29     13      26               3276\n",
       "1      11     11      14                979\n",
       "2      27      2       5                408\n",
       "3       6     10      13                596\n",
       "4      15     19      10               1400"
      ]
     },
     "execution_count": 36,
     "metadata": {},
     "output_type": "execute_result"
    }
   ],
   "source": [
    "def calc_required_wrapping_paper(row):\n",
    "    length = int(row[\"Length\"])\n",
    "    width = int(row[\"Width\"])\n",
    "    height = int(row[\"Height\"])\n",
    "\n",
    "    smallest_sides = sorted([length, width, height])[:2]\n",
    "    slack = np.prod(smallest_sides)\n",
    "\n",
    "    return (\n",
    "        (2 * length * width)\n",
    "        + (2 * width * height)\n",
    "        + (2 * height * length)\n",
    "        + slack\n",
    "    )\n",
    "\n",
    "\n",
    "assert (\n",
    "    calc_required_wrapping_paper({\"Length\": \"1\", \"Width\": \"1\", \"Height\": \"10\"})\n",
    "    == 43\n",
    ")\n",
    "assert (\n",
    "    calc_required_wrapping_paper({\"Length\": \"2\", \"Width\": \"3\", \"Height\": \"4\"})\n",
    "    == 58\n",
    ")\n",
    "\n",
    "df[\"Sqft Paper Needed\"] = df.apply(calc_required_wrapping_paper, axis=1)\n",
    "df.head()"
   ]
  },
  {
   "cell_type": "code",
   "execution_count": 37,
   "id": "f391df6c-bb28-48e5-a8f7-e6f5305bb4d6",
   "metadata": {},
   "outputs": [
    {
     "data": {
      "text/plain": [
       "1586300"
      ]
     },
     "execution_count": 37,
     "metadata": {},
     "output_type": "execute_result"
    }
   ],
   "source": [
    "df[\"Sqft Paper Needed\"].sum()"
   ]
  },
  {
   "cell_type": "markdown",
   "id": "a1e088c1-198d-4910-9f60-b88a9b985584",
   "metadata": {},
   "source": [
    "**Part Two**"
   ]
  },
  {
   "cell_type": "code",
   "execution_count": 42,
   "id": "5bfb9a48-e23f-4452-aabb-8d8726f8e3c2",
   "metadata": {},
   "outputs": [
    {
     "ename": "AssertionError",
     "evalue": "",
     "output_type": "error",
     "traceback": [
      "\u001b[0;31m---------------------------------------------------------------------------\u001b[0m",
      "\u001b[0;31mAssertionError\u001b[0m                            Traceback (most recent call last)",
      "Input \u001b[0;32mIn [42]\u001b[0m, in \u001b[0;36m<cell line: 14>\u001b[0;34m()\u001b[0m\n\u001b[1;32m      9\u001b[0m     ribbion_for_wrap \u001b[38;5;241m=\u001b[39m length \u001b[38;5;241m+\u001b[39m width \u001b[38;5;241m+\u001b[39m height\n\u001b[1;32m     11\u001b[0m     \u001b[38;5;28;01mreturn\u001b[39;00m ribbion_for_bow \u001b[38;5;241m+\u001b[39m ribbion_for_wrap\n\u001b[0;32m---> 14\u001b[0m \u001b[38;5;28;01massert\u001b[39;00m calc_requested_ribbion({\n\u001b[1;32m     15\u001b[0m     \u001b[38;5;124m\"\u001b[39m\u001b[38;5;124mLength\u001b[39m\u001b[38;5;124m\"\u001b[39m: \u001b[38;5;124m\"\u001b[39m\u001b[38;5;124m1\u001b[39m\u001b[38;5;124m\"\u001b[39m, \u001b[38;5;124m\"\u001b[39m\u001b[38;5;124mWidth\u001b[39m\u001b[38;5;124m\"\u001b[39m: \u001b[38;5;124m\"\u001b[39m\u001b[38;5;124m1\u001b[39m\u001b[38;5;124m\"\u001b[39m, \u001b[38;5;124m\"\u001b[39m\u001b[38;5;124mHeight\u001b[39m\u001b[38;5;124m\"\u001b[39m: \u001b[38;5;124m\"\u001b[39m\u001b[38;5;124m10\u001b[39m\u001b[38;5;124m\"\u001b[39m\n\u001b[1;32m     16\u001b[0m }) \u001b[38;5;241m==\u001b[39m \u001b[38;5;241m14\u001b[39m\n\u001b[1;32m     17\u001b[0m \u001b[38;5;28;01massert\u001b[39;00m calc_requested_ribbion({\n\u001b[1;32m     18\u001b[0m     \u001b[38;5;124m\"\u001b[39m\u001b[38;5;124mLength\u001b[39m\u001b[38;5;124m\"\u001b[39m: \u001b[38;5;124m\"\u001b[39m\u001b[38;5;124m2\u001b[39m\u001b[38;5;124m\"\u001b[39m, \u001b[38;5;124m\"\u001b[39m\u001b[38;5;124mWidth\u001b[39m\u001b[38;5;124m\"\u001b[39m: \u001b[38;5;124m\"\u001b[39m\u001b[38;5;124m3\u001b[39m\u001b[38;5;124m\"\u001b[39m, \u001b[38;5;124m\"\u001b[39m\u001b[38;5;124mHeight\u001b[39m\u001b[38;5;124m\"\u001b[39m: \u001b[38;5;124m\"\u001b[39m\u001b[38;5;124m4\u001b[39m\u001b[38;5;124m\"\u001b[39m\n\u001b[1;32m     19\u001b[0m }) \u001b[38;5;241m==\u001b[39m \u001b[38;5;241m34\u001b[39m\n",
      "\u001b[0;31mAssertionError\u001b[0m: "
     ]
    }
   ],
   "source": [
    "def calc_requested_ribbion(row):\n",
    "    length = int(row[\"Length\"])\n",
    "    width = int(row[\"Width\"])\n",
    "    height = int(row[\"Height\"])\n",
    "\n",
    "    smallest_sides = sorted([length, width, height])[:2]\n",
    "    ribbion_for_bow = np.sum(smallest_sides) + np.sum(smallest_sides)\n",
    "\n",
    "    ribbion_for_wrap = length + width + height\n",
    "\n",
    "    return ribbion_for_bow + ribbion_for_wrap\n",
    "\n",
    "\n",
    "assert (\n",
    "    calc_requested_ribbion({\"Length\": \"1\", \"Width\": \"1\", \"Height\": \"10\"}) == 14\n",
    ")\n",
    "assert (\n",
    "    calc_requested_ribbion({\"Length\": \"2\", \"Width\": \"3\", \"Height\": \"4\"}) == 34\n",
    ")"
   ]
  },
  {
   "cell_type": "code",
   "execution_count": null,
   "id": "4ddef6e7-0968-415f-9e62-fccfde24cbc7",
   "metadata": {},
   "outputs": [],
   "source": []
  }
 ],
 "metadata": {
  "kernelspec": {
   "display_name": "Python 3 (ipykernel)",
   "language": "python",
   "name": "python3"
  },
  "language_info": {
   "codemirror_mode": {
    "name": "ipython",
    "version": 3
   },
   "file_extension": ".py",
   "mimetype": "text/x-python",
   "name": "python",
   "nbconvert_exporter": "python",
   "pygments_lexer": "ipython3",
   "version": "3.9.15"
  }
 },
 "nbformat": 4,
 "nbformat_minor": 5
}
