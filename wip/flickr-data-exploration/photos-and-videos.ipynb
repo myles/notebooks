{
 "cells": [
  {
   "cell_type": "code",
   "execution_count": 2,
   "id": "23abcf88-4945-4e34-be75-6cbc814d05ff",
   "metadata": {
    "tags": []
   },
   "outputs": [],
   "source": [
    "from zipfile import ZipFile\n",
    "from pathlib import Path"
   ]
  },
  {
   "cell_type": "code",
   "execution_count": 4,
   "id": "18962747-65d8-4f6f-97e6-94b6086f9041",
   "metadata": {
    "tags": []
   },
   "outputs": [
    {
     "data": {
      "text/plain": [
       "['workstation_5084054_o.jpg',\n",
       " 'farm_5564038_o.jpg',\n",
       " 'power_5762097_o.jpg',\n",
       " 'schooll-hallway_5785072_o.jpg',\n",
       " 'fish-eye_5785091_o.jpg',\n",
       " 'tell_5785108_o.jpg',\n",
       " 'help_5785132_o.jpg',\n",
       " 'grass-and-flowers_5785152_o.jpg',\n",
       " 'farm-feild_5785168_o.jpg',\n",
       " 'trillium_5785225_o.jpg']"
      ]
     },
     "execution_count": 4,
     "metadata": {},
     "output_type": "execute_result"
    }
   ],
   "source": [
    "DATA_DOWNLOAD_ONE_ZIP_PATH = Path(\"data/source/data-download-1.zip\").resolve()\n",
    "\n",
    "with ZipFile(DATA_DOWNLOAD_ONE_ZIP_PATH, \"r\") as zip_file_obj:\n",
    "    file_names = zip_file_obj.namelist()\n",
    "\n",
    "file_names[:10]"
   ]
  },
  {
   "cell_type": "code",
   "execution_count": null,
   "id": "93a75fb3-f13a-4804-9888-f960a9534213",
   "metadata": {},
   "outputs": [],
   "source": []
  }
 ],
 "metadata": {
  "kernelspec": {
   "display_name": "Python 3 (ipykernel)",
   "language": "python",
   "name": "python3"
  },
  "language_info": {
   "codemirror_mode": {
    "name": "ipython",
    "version": 3
   },
   "file_extension": ".py",
   "mimetype": "text/x-python",
   "name": "python",
   "nbconvert_exporter": "python",
   "pygments_lexer": "ipython3",
   "version": "3.9.16"
  }
 },
 "nbformat": 4,
 "nbformat_minor": 5
}
