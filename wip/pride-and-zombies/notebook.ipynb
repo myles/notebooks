{
 "cells": [
  {
   "cell_type": "code",
   "execution_count": 25,
   "metadata": {},
   "outputs": [],
   "source": [
    "import re\n",
    "from random import choice\n",
    "from pathlib import Path\n",
    "import requests"
   ]
  },
  {
   "cell_type": "code",
   "execution_count": 26,
   "metadata": {},
   "outputs": [],
   "source": [
    "GUTENBERG_URL = \"https://www.gutenberg.org/files/1342/1342-0.txt\"\n",
    "\n",
    "response = requests.get(GUTENBERG_URL)\n",
    "response.encoding = \"utf-8\"\n",
    "\n",
    "input_path_obj = Path(\"pride-and-prejudice.txt\")\n",
    "with input_path_obj.open(\"w+\", encoding=\"utf-8\") as file_obj:\n",
    "    file_obj.write(response.text)"
   ]
  },
  {
   "cell_type": "code",
   "execution_count": 27,
   "metadata": {},
   "outputs": [],
   "source": [
    "PLURAL_NOUN_LIST = [\n",
    "    \"ladies\", \"gentlemen\", \"women\", \"men\",\n",
    "    \"children\", \"boys\", \"girls\",\n",
    "]\n",
    "\n",
    "SINGULAR_NOUN_LIST = [\n",
    "    \"son\", \"daughter\", \"child\", \"wife\", \"woman\", \n",
    "    \"mrs\", \"miss\", \"husband\", \"man\", \"mr\", \"sir\", \n",
    "    \"lady\",\n",
    "]\n",
    "\n",
    "SPEAKING_VERB_LIST = [\n",
    "    \"said\", \"replied\", \"spoke\", \"shouted\", \n",
    "    \"cried\",\n",
    "]\n",
    "\n",
    "ZOMBIE_SOUND_LIST = [\n",
    "    \"groaned\", \"moaned\", \"growled\", \"screamed\", \n",
    "    \"gurgled\",\n",
    "]"
   ]
  },
  {
   "cell_type": "code",
   "execution_count": 28,
   "metadata": {},
   "outputs": [],
   "source": [
    "def change_prose(text):\n",
    "    plural_noun_list = PLURAL_NOUN_LIST + list(\n",
    "        map(\n",
    "            lambda x: x.title(), PLURAL_NOUN_LIST\n",
    "        )\n",
    "    )\n",
    "    singular_noun_list = (\n",
    "            SINGULAR_NOUN_LIST + list(\n",
    "            map(\n",
    "                lambda x: x.title(), \n",
    "                SINGULAR_NOUN_LIST,\n",
    "            )\n",
    "        )\n",
    "    )\n",
    "\n",
    "    for word in plural_noun_list:\n",
    "        text = re.sub(\n",
    "            r\"\\b{0}\\b\".format(word), \n",
    "            \"zombies\", \n",
    "            text,\n",
    "        )\n",
    "\n",
    "    for word in singular_noun_list:\n",
    "        text = re.sub(\n",
    "             r\"\\b{0}\\b\".format(word),\n",
    "             \"zombie\", \n",
    "             text,\n",
    "        )\n",
    "\n",
    "    for word in SPEAKING_VERB_LIST:\n",
    "        text = re.sub(\n",
    "            r\"\\b{0}\\b\".format(word),\n",
    "            choice(ZOMBIE_SOUND_LIST),\n",
    "            text,\n",
    "        )\n",
    "\n",
    "    return text "
   ]
  },
  {
   "cell_type": "code",
   "execution_count": 29,
   "metadata": {},
   "outputs": [],
   "source": [
    "def zombify_speech(text):\n",
    "    text = re.sub(r\"[eiosEIOS]\", \"r\", text)\n",
    "    text = re.sub(\n",
    "        r\"[^zhrgbmnaZHRGBMNA“”?\\n .!?-]\",\n",
    "        \"\",\n",
    "        text,\n",
    "    )\n",
    "    text = re.sub(r\"r\\b\", \"rh\", text)\n",
    "    text = re.sub(r\"(\\b[aA]\\b)\", \"hra\", text)\n",
    "\n",
    "    return text"
   ]
  },
  {
   "cell_type": "code",
   "execution_count": 30,
   "metadata": {},
   "outputs": [],
   "source": [
    "with input_path_obj.open(encoding=\"utf-8\") as file_obj:\n",
    "    text = file_obj.read()\n",
    "\n",
    "text = change_prose(text)\n",
    "text = zombify_speech(text)\n",
    "\n",
    "output_path_obj = Path(\"pride-and-zombies.txt\")\n",
    "with output_path_obj.open(\"w+\", encoding=\"utf-8\") as file_obj:\n",
    "    file_obj.write(text)"
   ]
  }
 ],
 "metadata": {
  "kernelspec": {
   "display_name": "Python 3",
   "language": "python",
   "name": "python3"
  },
  "language_info": {
   "codemirror_mode": {
    "name": "ipython",
    "version": 3
   },
   "file_extension": ".py",
   "mimetype": "text/x-python",
   "name": "python",
   "nbconvert_exporter": "python",
   "pygments_lexer": "ipython3",
   "version": "3.6.6+"
  }
 },
 "nbformat": 4,
 "nbformat_minor": 2
}
