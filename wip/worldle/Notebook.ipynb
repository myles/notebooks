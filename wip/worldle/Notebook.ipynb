{
 "cells": [
  {
   "cell_type": "code",
   "execution_count": 1,
   "metadata": {},
   "outputs": [
    {
     "data": {
      "text/plain": [
       "['A',\n",
       " 'a',\n",
       " 'aa',\n",
       " 'aal',\n",
       " 'aalii',\n",
       " 'aam',\n",
       " 'Aani',\n",
       " 'aardvark',\n",
       " 'aardwolf',\n",
       " 'Aaron']"
      ]
     },
     "execution_count": 1,
     "metadata": {},
     "output_type": "execute_result"
    }
   ],
   "source": [
    "from pathlib import Path\n",
    "\n",
    "words_path = Path(\"/usr/share/dict/words\")\n",
    "\n",
    "with words_path.open() as file_obj:\n",
    "    words = file_obj.read().split(\"\\n\")\n",
    "\n",
    "words[:10]"
   ]
  },
  {
   "cell_type": "code",
   "execution_count": 2,
   "metadata": {},
   "outputs": [
    {
     "data": {
      "text/plain": [
       "['aalii',\n",
       " 'Aaron',\n",
       " 'abaca',\n",
       " 'aback',\n",
       " 'abaff',\n",
       " 'abaft',\n",
       " 'Abama',\n",
       " 'abase',\n",
       " 'abash',\n",
       " 'abask']"
      ]
     },
     "execution_count": 2,
     "metadata": {},
     "output_type": "execute_result"
    }
   ],
   "source": [
    "five_letter_words = list(filter(lambda word: len(word) == 5, words))\n",
    "five_letter_words[:10]"
   ]
  },
  {
   "cell_type": "code",
   "execution_count": 3,
   "metadata": {},
   "outputs": [],
   "source": [
    "know_letters = ('p', 'z', 'a')\n",
    "know_letter_locs = ('p', None, None, None, 'a')"
   ]
  },
  {
   "cell_type": "code",
   "execution_count": 17,
   "metadata": {},
   "outputs": [
    {
     "data": {
      "text/plain": [
       "False"
      ]
     },
     "execution_count": 17,
     "metadata": {},
     "output_type": "execute_result"
    }
   ],
   "source": [
    "from typing import Iterable, Tuple, List, Optional\n",
    "\n",
    "\n",
    "def does_word_match(\n",
    "    word: str,\n",
    "    known_letters: Iterable[str],\n",
    "    known_letters_locs: Tuple[\n",
    "        Optional[str],\n",
    "        Optional[str],\n",
    "        Optional[str],\n",
    "        Optional[str],\n",
    "        Optional[str],\n",
    "    ],\n",
    ") -> bool:\n",
    "    known_letters = set(known_letters)\n",
    "    \n",
    "    words = set(word)\n",
    "\n",
    "    if words.issuperset(known_letters) is False:\n",
    "        return False\n",
    "\n",
    "    match_count = 0\n",
    "    total_match_count = len(list(filter(None, known_letters_locs)))\n",
    "    for index, letter in enumerate(known_letters_locs):\n",
    "        if letter is not None and word[index] == letter:\n",
    "            match_count += 1\n",
    "\n",
    "    return total_match_count == match_count\n",
    "\n",
    "\n",
    "does_word_match(\"words\", (\"w\", \"o\", \"r\", \"d\" \"s\"), (\"w\", \"o\", None, None, \"s\"))"
   ]
  },
  {
   "cell_type": "code",
   "execution_count": 19,
   "metadata": {},
   "outputs": [
    {
     "data": {
      "text/plain": [
       "['watap', 'whalp', 'whamp', 'wharp', 'whaup', 'wramp']"
      ]
     },
     "execution_count": 19,
     "metadata": {},
     "output_type": "execute_result"
    }
   ],
   "source": [
    "def possible_words(\n",
    "    known_letters: Iterable[str],\n",
    "    known_letters_locs: Tuple[str, str, str, str, str],\n",
    ") -> List[str]:\n",
    "    return list(\n",
    "        filter(\n",
    "            lambda x: does_word_match(x, known_letters, known_letters_locs),\n",
    "            five_letter_words,\n",
    "        )\n",
    "    )\n",
    "\n",
    "\n",
    "possible_words(\n",
    "    known_letters=(\"w\", \"p\", \"a\"),\n",
    "    known_letters_locs=(\"w\", None, None, None, \"p\"),\n",
    ")"
   ]
  },
  {
   "cell_type": "code",
   "execution_count": null,
   "metadata": {},
   "outputs": [],
   "source": []
  }
 ],
 "metadata": {
  "kernelspec": {
   "display_name": "Python 3",
   "language": "python",
   "name": "python3"
  },
  "language_info": {
   "codemirror_mode": {
    "name": "ipython",
    "version": 3
   },
   "file_extension": ".py",
   "mimetype": "text/x-python",
   "name": "python",
   "nbconvert_exporter": "python",
   "pygments_lexer": "ipython3",
   "version": "3.8.12"
  }
 },
 "nbformat": 4,
 "nbformat_minor": 4
}
