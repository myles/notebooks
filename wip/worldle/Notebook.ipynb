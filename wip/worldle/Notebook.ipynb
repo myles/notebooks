{
 "cells": [
  {
   "cell_type": "code",
   "execution_count": 1,
   "metadata": {},
   "outputs": [],
   "source": [
    "from pathlib import Path\n",
    "import pandas as pd"
   ]
  },
  {
   "cell_type": "code",
   "execution_count": 2,
   "metadata": {},
   "outputs": [],
   "source": [
    "words_path = Path(\"/usr/share/dict/words\")\n",
    "\n",
    "with words_path.open() as file_obj:\n",
    "    words = file_obj.read().split(\"\\n\")"
   ]
  },
  {
   "cell_type": "code",
   "execution_count": 7,
   "metadata": {},
   "outputs": [],
   "source": [
    "five_letter_words = list(filter(lambda word: len(word) == 5, words))\n",
    "df = pd.DataFrame(words, columns=(\"word\",))\n",
    "df = df[df[\"word\"].str.len() == 5]"
   ]
  },
  {
   "cell_type": "code",
   "execution_count": null,
   "metadata": {},
   "outputs": [],
   "source": []
  },
  {
   "cell_type": "code",
   "execution_count": null,
   "metadata": {},
   "outputs": [],
   "source": [
    "know_letters = (\"p\", \"z\", \"a\")\n",
    "know_letter_locs = (\"p\", None, None, None, \"a\")"
   ]
  },
  {
   "cell_type": "code",
   "execution_count": null,
   "metadata": {},
   "outputs": [
    {
     "data": {
      "text/plain": [
       "False"
      ]
     },
     "execution_count": 17,
     "metadata": {},
     "output_type": "execute_result"
    }
   ],
   "source": [
    "from typing import Iterable, Tuple, List, Optional\n",
    "\n",
    "\n",
    "def does_word_match(\n",
    "    word: str,\n",
    "    known_letters: Iterable[str],\n",
    "    known_letters_locs: Tuple[\n",
    "        Optional[str],\n",
    "        Optional[str],\n",
    "        Optional[str],\n",
    "        Optional[str],\n",
    "        Optional[str],\n",
    "    ],\n",
    ") -> bool:\n",
    "    known_letters = set(known_letters)\n",
    "\n",
    "    words = set(word)\n",
    "\n",
    "    if words.issuperset(known_letters) is False:\n",
    "        return False\n",
    "\n",
    "    match_count = 0\n",
    "    total_match_count = len(list(filter(None, known_letters_locs)))\n",
    "    for index, letter in enumerate(known_letters_locs):\n",
    "        if letter is not None and word[index] == letter:\n",
    "            match_count += 1\n",
    "\n",
    "    return total_match_count == match_count\n",
    "\n",
    "\n",
    "does_word_match(\"words\", (\"w\", \"o\", \"r\", \"d\" \"s\"), (\"w\", \"o\", None, None, \"s\"))"
   ]
  },
  {
   "cell_type": "code",
   "execution_count": null,
   "metadata": {},
   "outputs": [
    {
     "data": {
      "text/plain": [
       "['watap', 'whalp', 'whamp', 'wharp', 'whaup', 'wramp']"
      ]
     },
     "execution_count": 19,
     "metadata": {},
     "output_type": "execute_result"
    }
   ],
   "source": [
    "def possible_words(\n",
    "    known_letters: Iterable[str],\n",
    "    known_letters_locs: Tuple[str, str, str, str, str],\n",
    ") -> List[str]:\n",
    "    return list(\n",
    "        filter(\n",
    "            lambda x: does_word_match(x, known_letters, known_letters_locs),\n",
    "            five_letter_words,\n",
    "        )\n",
    "    )\n",
    "\n",
    "\n",
    "possible_words(\n",
    "    known_letters=(\"w\", \"p\", \"a\"),\n",
    "    known_letters_locs=(\"w\", None, None, None, \"p\"),\n",
    ")"
   ]
  },
  {
   "cell_type": "code",
   "execution_count": null,
   "metadata": {},
   "outputs": [],
   "source": []
  }
 ],
 "metadata": {
  "kernelspec": {
   "display_name": "Python 3 (ipykernel)",
   "language": "python",
   "name": "python3"
  },
  "language_info": {
   "codemirror_mode": {
    "name": "ipython",
    "version": 3
   },
   "file_extension": ".py",
   "mimetype": "text/x-python",
   "name": "python",
   "nbconvert_exporter": "python",
   "pygments_lexer": "ipython3",
   "version": "3.9.15"
  },
  "vscode": {
   "interpreter": {
    "hash": "1a1af0ee75eeea9e2e1ee996c87e7a2b11a0bebd85af04bb136d915cefc0abce"
   }
  }
 },
 "nbformat": 4,
 "nbformat_minor": 4
}
